{
 "cells": [
  {
   "cell_type": "markdown",
   "metadata": {},
   "source": [
    "----------------------------------------Main Query Function--------------------------------------------"
   ]
  },
  {
   "cell_type": "code",
   "execution_count": null,
   "metadata": {},
   "outputs": [],
   "source": [
    "def FINDPATHS(s, t, F):\n",
    "    F_prime = None;\n",
    "    P = []\n",
    "    for i in range(1, f + 1):\n",
    "        P_i = find_path(s, t, F_prime, i - 1)  # i - 1-fault distance oracle\n",
    "        P.append(P_i)\n",
    "        for e in F - F_prime:\n",
    "            flag = 0\n",
    "            R1 = find_path(s, e, F_prime, i - 1)  # i - 1-fault tolerant distance oracle\n",
    "            R2 = find_path(e, t, F_prime, i - 1)  # i - 1-fault tolerant distance oracle\n",
    "            # Check if e lies on the path P_i\n",
    "            if weight(R1) + weight(e) + weight(R2) == weight(P_i):\n",
    "                F_prime.add(e)\n",
    "                flag = 1\n",
    "                break\n",
    "        if flag == 0:\n",
    "            return P\n",
    "    return P"
   ]
  },
  {
   "cell_type": "code",
   "execution_count": null,
   "metadata": {},
   "outputs": [],
   "source": [
    "def QUERY(s ,t , 3):\n",
    "    if r == 0:\n",
    "        return 'inf'\n",
    "    p1 = findpath(s, t ,F)\n",
    "    p2 = findpath(s, t ,F)\n",
    "    for i in range(2):\n",
    "        Jump(pi[s ,t])= findjump(pi[s ,t] , F)\n",
    "        Jump(pi[s ,t])= findjump(pi[s ,t] , F)\n",
    "    path = []\n",
    "    \n",
    "    for (i , j) in zip((1 , 2) , (1,2)):\n",
    "        intermediate = {}\n",
    "        for (x,y) in zip (Jump(p1[s ,t]) , Jump(p2[s ,t])):\n",
    "            # x satisfies the condition of an intermediate vertex\n",
    "            if sx and x t contain an edge from F then\n",
    "                INTERMEDIATE ← INTERMEDIATE ∪ {x};\n",
    "            # y satisfies the condition of an intermediate vertex\n",
    "            else if s y and y t contain an edge from F then\n",
    "                INTERMEDIATE ← INTERMEDIATE ∪ { y};\n",
    "            else\n",
    "                (P, I) ← FIND-INTERMEDIATE1(x, y, r);\n",
    "                P′ ← sx ⊙ P ⊙ y t;\n",
    "                PATH = argmin{|PATH|, |P′|};\n",
    "                INTERMEDIATE ← INTERMEDIATE ∪ I\n",
    "        foreach u ∈ INTERMEDIATE do\n",
    "            PATH ← argmin{|QUERY(s, u, r − 1) ⊙ QUERY(u, t, r − 1)|, |PATH|};\n",
    "    return PATH;   \n",
    "        "
   ]
  }
 ],
 "metadata": {
  "kernelspec": {
   "display_name": "Python 3",
   "language": "python",
   "name": "python3"
  },
  "language_info": {
   "name": "python",
   "version": "3.12.4"
  }
 },
 "nbformat": 4,
 "nbformat_minor": 2
}
